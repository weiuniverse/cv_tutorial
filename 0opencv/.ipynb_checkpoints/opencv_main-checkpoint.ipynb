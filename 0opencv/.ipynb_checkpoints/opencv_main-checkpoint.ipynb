{
 "cells": [
  {
   "cell_type": "code",
   "execution_count": 2,
   "metadata": {},
   "outputs": [
    {
     "name": "stdout",
     "output_type": "stream",
     "text": [
      "(793L, 1532L, 3L)\n"
     ]
    },
    {
     "data": {
      "text/plain": [
       "100"
      ]
     },
     "execution_count": 2,
     "metadata": {},
     "output_type": "execute_result"
    }
   ],
   "source": [
    "import numpy as np\n",
    "import cv2\n",
    "img = cv2.imread('1.jpg',-1)\n",
    "# cv2.imshow('image',img)\n",
    "print(img.shape)\n",
    "# 显示 (10,10,2)\n",
    "img.item(10,10,2)\n",
    "# 修改 (10,10,2)为100\n",
    "img.itemset((10,10,2),100)\n",
    "img.item(10,10,2)"
   ]
  },
  {
   "cell_type": "code",
   "execution_count": 8,
   "metadata": {},
   "outputs": [
    {
     "data": {
      "text/plain": [
       "dtype('uint8')"
      ]
     },
     "execution_count": 8,
     "metadata": {},
     "output_type": "execute_result"
    }
   ],
   "source": [
    "# 显示 img 的大小\n",
    "img.shape\n",
    "# 显示img 的数据类型\n",
    "img.dtype"
   ]
  },
  {
   "cell_type": "code",
   "execution_count": 14,
   "metadata": {},
   "outputs": [],
   "source": [
    "# 图像 ROI 切割: 本质上还是基于numpy的操作 （不过零点对应图像的哪个角？A: 左上角）\n",
    "roi_img = img[1:10,1:10]\n",
    "cv2.imshow('image',roi_img)"
   ]
  },
  {
   "cell_type": "code",
   "execution_count": 4,
   "metadata": {},
   "outputs": [],
   "source": [
    "# 拆分合并图像通道\n",
    "b,g,r = cv2.split(img)\n",
    "# !!! split 是一个耗时的工作，不如numpy索引快\n",
    "img = cv2.merge((b,g,r))\n",
    "\n",
    "# or \n",
    "b = img[:,:,0]"
   ]
  }
 ],
 "metadata": {
  "kernelspec": {
   "display_name": "Python 2",
   "language": "python",
   "name": "python2"
  },
  "language_info": {
   "codemirror_mode": {
    "name": "ipython",
    "version": 2
   },
   "file_extension": ".py",
   "mimetype": "text/x-python",
   "name": "python",
   "nbconvert_exporter": "python",
   "pygments_lexer": "ipython2",
   "version": "2.7.13"
  }
 },
 "nbformat": 4,
 "nbformat_minor": 2
}
