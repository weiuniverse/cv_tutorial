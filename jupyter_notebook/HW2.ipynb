{
 "cells": [
  {
   "cell_type": "code",
   "execution_count": 1,
   "metadata": {},
   "outputs": [],
   "source": [
    "import os\n",
    "import sys\n",
    "import cv2\n",
    "import math\n",
    "import numpy as np\n",
    "import matplotlib.pyplot as plt\n",
    "% matplotlib inline"
   ]
  },
  {
   "cell_type": "code",
   "execution_count": 2,
   "metadata": {},
   "outputs": [],
   "source": [
    "def imshow_in_jupyter(img):\n",
    "    img_plt = cv2.cvtColor(img, cv2.COLOR_BGR2RGB)\n",
    "    plt.imshow(img_plt)"
   ]
  },
  {
   "cell_type": "code",
   "execution_count": 3,
   "metadata": {},
   "outputs": [],
   "source": [
    "def feature_matching(img1, img2, savefig=False):\n",
    "    # Initiate SIFT detector\n",
    "    sift = cv2.xfeatures2d.SIFT_create()\n",
    "    # find the keypoints and descriptors with SIFT\n",
    "    kp1, des1 = sift.detectAndCompute(img1,None)\n",
    "    kp2, des2 = sift.detectAndCompute(img2,None)\n",
    "    # FLANN parameters\n",
    "    FLANN_INDEX_KDTREE = 1\n",
    "    index_params = dict(algorithm = FLANN_INDEX_KDTREE, trees = 5)\n",
    "    search_params = dict(checks=50)   # or pass empty dictionary\n",
    "    flann = cv2.FlannBasedMatcher(index_params,search_params)\n",
    "    matches2to1 = flann.knnMatch(des2,des1,k=2)\n",
    "\n",
    "    matchesMask_ratio = [[0,0] for i in xrange(len(matches2to1))]\n",
    "    match_dict = {}\n",
    "    for i,(m,n) in enumerate(matches2to1):\n",
    "        if m.distance < 0.7*n.distance:\n",
    "            matchesMask_ratio[i]=[1,0]\n",
    "            match_dict[m.trainIdx] = m.queryIdx\n",
    "\n",
    "    good = []\n",
    "    recip_matches = flann.knnMatch(des1,des2,k=2)\n",
    "    matchesMask_ratio_recip = [[0,0] for i in xrange(len(recip_matches))]\n",
    "\n",
    "    for i,(m,n) in enumerate(recip_matches):\n",
    "        if m.distance < 0.7*n.distance: # ratio\n",
    "            if m.queryIdx in match_dict and match_dict[m.queryIdx] == m.trainIdx: #reciprocal\n",
    "                good.append(m)\n",
    "                matchesMask_ratio_recip[i]=[1,0]\n",
    "\n",
    "    if savefig:\n",
    "        draw_params = dict(matchColor = (0,255,0),\n",
    "                           singlePointColor = (255,0,0),\n",
    "                           matchesMask = matchesMask_ratio_recip,\n",
    "                           flags = 0)\n",
    "        img3 = cv2.drawMatchesKnn(img1,kp1,img2,kp2,recip_matches,None,**draw_params)\n",
    "\n",
    "        plt.figure(),plt.xticks([]),plt.yticks([])\n",
    "        plt.imshow(img3,)\n",
    "        plt.savefig(\"feature_matching.png\",bbox_inches='tight')\n",
    "\n",
    "    return ([ kp1[m.queryIdx].pt for m in good ],[ kp2[m.trainIdx].pt for m in good ])"
   ]
  }
 ],
 "metadata": {
  "kernelspec": {
   "display_name": "Python 3",
   "language": "python",
   "name": "python3"
  },
  "language_info": {
   "codemirror_mode": {
    "name": "ipython",
    "version": 3
   },
   "file_extension": ".py",
   "mimetype": "text/x-python",
   "name": "python",
   "nbconvert_exporter": "python",
   "pygments_lexer": "ipython3",
   "version": "3.6.3"
  }
 },
 "nbformat": 4,
 "nbformat_minor": 2
}
